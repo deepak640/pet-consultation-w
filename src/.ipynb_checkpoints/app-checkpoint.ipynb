{
 "cells": [
  {
   "cell_type": "code",
   "execution_count": 1,
   "id": "5fd30e83",
   "metadata": {},
   "outputs": [
    {
     "name": "stdout",
     "output_type": "stream",
     "text": [
      "importing Jupyter notebook from Chat.ipynb\n"
     ]
    },
    {
     "name": "stderr",
     "output_type": "stream",
     "text": [
      "[nltk_data] Downloading package punkt to\n",
      "[nltk_data]     C:\\Users\\HP\\AppData\\Roaming\\nltk_data...\n",
      "[nltk_data]   Package punkt is already up-to-date!\n",
      "[nltk_data] Downloading package wordnet to\n",
      "[nltk_data]     C:\\Users\\HP\\AppData\\Roaming\\nltk_data...\n",
      "[nltk_data]   Package wordnet is already up-to-date!\n"
     ]
    },
    {
     "name": "stdout",
     "output_type": "stream",
     "text": [
      "epoch 100/300,loss=0.3526\n",
      "epoch 200/300,loss=0.0141\n",
      "epoch 300/300,loss=0.0019\n",
      "final loss=0.0019\n"
     ]
    }
   ],
   "source": [
    "from flask import Flask,request,jsonify,render_template\n",
    "import import_ipynb\n",
    "import Chat"
   ]
  },
  {
   "cell_type": "code",
   "execution_count": null,
   "id": "7c329ff0",
   "metadata": {},
   "outputs": [
    {
     "name": "stdout",
     "output_type": "stream",
     "text": [
      " * Serving Flask app '__main__'\n",
      " * Debug mode: off\n"
     ]
    },
    {
     "name": "stderr",
     "output_type": "stream",
     "text": [
      "WARNING: This is a development server. Do not use it in a production deployment. Use a production WSGI server instead.\n",
      " * Running on all addresses (0.0.0.0)\n",
      " * Running on http://127.0.0.1:5000\n",
      " * Running on http://192.168.29.75:5000\n",
      "Press CTRL+C to quit\n",
      "127.0.0.1 - - [09/May/2024 02:54:41] \"GET / HTTP/1.1\" 200 -\n",
      "127.0.0.1 - - [09/May/2024 02:54:41] \"GET /static/style.css HTTP/1.1\" 304 -\n",
      "127.0.0.1 - - [09/May/2024 02:54:41] \"GET /static/app.js HTTP/1.1\" 304 -\n",
      "127.0.0.1 - - [09/May/2024 02:54:41] \"GET /static/images/chatbox-icon.svg HTTP/1.1\" 304 -\n",
      "127.0.0.1 - - [09/May/2024 02:54:41] \"GET /favicon.ico HTTP/1.1\" 404 -\n",
      "127.0.0.1 - - [09/May/2024 02:54:58] \"POST /predict HTTP/1.1\" 200 -\n",
      "127.0.0.1 - - [09/May/2024 02:55:02] \"POST /predict HTTP/1.1\" 200 -\n",
      "127.0.0.1 - - [09/May/2024 02:55:11] \"POST /predict HTTP/1.1\" 200 -\n",
      "127.0.0.1 - - [09/May/2024 02:55:26] \"POST /predict HTTP/1.1\" 200 -\n",
      "127.0.0.1 - - [09/May/2024 02:55:42] \"POST /predict HTTP/1.1\" 200 -\n",
      "127.0.0.1 - - [09/May/2024 02:55:55] \"POST /predict HTTP/1.1\" 200 -\n",
      "127.0.0.1 - - [09/May/2024 02:56:10] \"POST /predict HTTP/1.1\" 200 -\n"
     ]
    }
   ],
   "source": [
    "import os\n",
    "app=Flask(__name__)\n",
    "\n",
    "@app.route('/',methods=['GET'])\n",
    "def index_get():\n",
    "    return render_template(\"base.html\")\n",
    "\n",
    "@app.route('/predict', methods=['POST'])\n",
    "def predict():\n",
    "    text=request.get_json().get(\"message\")\n",
    "    response=Chat.get_response(text)\n",
    "    message={\"answer\": response}\n",
    "    return jsonify(message)\n",
    "\n",
    "if __name__==\"__main__\":\n",
    "    port=int(os.environ.get('PORT',5000))\n",
    "    app.run(host='0.0.0.0',port=port)"
   ]
  },
  {
   "cell_type": "code",
   "execution_count": null,
   "id": "e715fdd5",
   "metadata": {},
   "outputs": [],
   "source": []
  }
 ],
 "metadata": {
  "kernelspec": {
   "display_name": "Python 3 (ipykernel)",
   "language": "python",
   "name": "python3"
  },
  "language_info": {
   "codemirror_mode": {
    "name": "ipython",
    "version": 3
   },
   "file_extension": ".py",
   "mimetype": "text/x-python",
   "name": "python",
   "nbconvert_exporter": "python",
   "pygments_lexer": "ipython3",
   "version": "3.11.4"
  }
 },
 "nbformat": 4,
 "nbformat_minor": 5
}
